{
 "cells": [
  {
   "cell_type": "markdown",
   "metadata": {},
   "source": [
    "### Object-Oriented Programming (OOP)"
   ]
  },
  {
   "cell_type": "markdown",
   "metadata": {},
   "source": [
    "Object-Oriented Programming (OOP) in Python is a way to structure your code by organizing it into **objects**. These objects can represent real-world things like cars, people, or even more abstract concepts like a bank account. OOP helps you to organize and reuse code more efficiently."
   ]
  },
  {
   "cell_type": "markdown",
   "metadata": {},
   "source": [
    "### Key Concepts in OOP:\n",
    " \n",
    "1. **Class**: A blueprint or template for creating objects. It defines the properties (attributes) and behaviors (methods) that the objects created from the class will have.\n",
    "   \n",
    "2. **Object**: An instance of a class. It has the data and methods defined by the class.\n",
    " \n",
    "3. **Attributes**: These are the variables inside a class that hold data about the object.\n",
    " \n",
    "4. **Methods**: These are functions inside a class that describe the behavior of the object.\n",
    " \n",
    "5. **Encapsulation**: Hiding the internal details of objects and only exposing necessary information.\n",
    " \n",
    "6. **Inheritance**: A way to create a new class from an existing class, inheriting its properties and methods.\n",
    " \n",
    "7. **Polymorphism**: The ability for different classes to be treated as instances of the same class through shared methods or behavior."
   ]
  },
  {
   "cell_type": "markdown",
   "metadata": {
    "vscode": {
     "languageId": "plaintext"
    }
   },
   "source": [
    "### 1. Class"
   ]
  },
  {
   "cell_type": "code",
   "execution_count": 24,
   "metadata": {},
   "outputs": [],
   "source": [
    "class car:\n",
    "    # Constructor method to initializen objects properties\n",
    "    def __init__(self, brand, color):\n",
    "        self.brand = brand\n",
    "        self.color = color # Attributes\n",
    "\n",
    "        # Method to display car details\n",
    "    def describe(self):\n",
    "        return f\"This car's color is {self.color}, and is a {self.brand}\"    "
   ]
  },
  {
   "cell_type": "code",
   "execution_count": 27,
   "metadata": {},
   "outputs": [],
   "source": [
    "# creat from class Car\n",
    "\n",
    "my_car =car(\"Toyota\",\"Red\")"
   ]
  },
  {
   "cell_type": "code",
   "execution_count": 28,
   "metadata": {},
   "outputs": [
    {
     "data": {
      "text/plain": [
       "\"This car's color is Red, and is a Toyota\""
      ]
     },
     "execution_count": 28,
     "metadata": {},
     "output_type": "execute_result"
    }
   ],
   "source": [
    "my_car.describe()"
   ]
  },
  {
   "cell_type": "markdown",
   "metadata": {},
   "source": [
    "### 2. Inheritance"
   ]
  },
  {
   "cell_type": "code",
   "execution_count": 30,
   "metadata": {},
   "outputs": [],
   "source": [
    "class ElectricCar(car):\n",
    "    def __init__(self,brand,color,battery_size):\n",
    "        super().__init__(brand,color)\n",
    "        self.battery_size = battery_size\n",
    "\n",
    "    # Method\n",
    "    def describe_battery(self):\n",
    "        return f\"This car is {self.brand} with a {self.battery_size}-kwh battery.\"\n",
    "            "
   ]
  },
  {
   "cell_type": "code",
   "execution_count": 31,
   "metadata": {},
   "outputs": [],
   "source": [
    "my_electric_car = ElectricCar(\"Tesla\",\"Blue\", 75)"
   ]
  },
  {
   "cell_type": "code",
   "execution_count": 32,
   "metadata": {},
   "outputs": [
    {
     "data": {
      "text/plain": [
       "'This car is Tesla with a 75-kwh battery.'"
      ]
     },
     "execution_count": 32,
     "metadata": {},
     "output_type": "execute_result"
    }
   ],
   "source": [
    "my_electric_car.describe_battery()"
   ]
  },
  {
   "cell_type": "code",
   "execution_count": 33,
   "metadata": {},
   "outputs": [
    {
     "data": {
      "text/plain": [
       "\"This car's color is Blue, and is a Tesla\""
      ]
     },
     "execution_count": 33,
     "metadata": {},
     "output_type": "execute_result"
    }
   ],
   "source": [
    "my_electric_car.describe()"
   ]
  },
  {
   "cell_type": "markdown",
   "metadata": {},
   "source": [
    "### 3. Abstraction"
   ]
  },
  {
   "cell_type": "markdown",
   "metadata": {},
   "source": [
    "Abstraction is the concept of hiding complex implementation details and showing only the essential features of an object. In OOP, abstraction allows us to focus on what an object does instead of how it does it. In Python, abstraction is achieved using abstract classes and methods, which are implemented using the `abc` module (Abstract Base Classes)."
   ]
  },
  {
   "cell_type": "markdown",
   "metadata": {},
   "source": [
    "An **abstract class** cannot be instantiated directly, and any class that inherits from it must implement its abstract methods."
   ]
  },
  {
   "cell_type": "code",
   "execution_count": 8,
   "metadata": {},
   "outputs": [],
   "source": [
    "from abc import ABC,abstractmethod\n",
    "\n",
    "class Vehicle(ABC):\n",
    "    #Abst method\n",
    "    @abstractmethod\n",
    "    def move(self):\n",
    "        pass\n",
    "    "
   ]
  },
  {
   "cell_type": "code",
   "execution_count": 9,
   "metadata": {},
   "outputs": [],
   "source": [
    "class Car2(Vehicle):\n",
    "    def move(self):\n",
    "        return f\"Car has moved on the road\""
   ]
  },
  {
   "cell_type": "code",
   "execution_count": 10,
   "metadata": {},
   "outputs": [],
   "source": [
    "class Boat(Vehicle):\n",
    "    def move(self):\n",
    "        return \"The boat has sailed\""
   ]
  },
  {
   "cell_type": "code",
   "execution_count": 11,
   "metadata": {},
   "outputs": [],
   "source": [
    "car = Car2()\n",
    "boat = Boat()"
   ]
  },
  {
   "cell_type": "code",
   "execution_count": 13,
   "metadata": {},
   "outputs": [
    {
     "data": {
      "text/plain": [
       "'Car has moved on the road'"
      ]
     },
     "execution_count": 13,
     "metadata": {},
     "output_type": "execute_result"
    }
   ],
   "source": [
    "car.move()"
   ]
  },
  {
   "cell_type": "code",
   "execution_count": 14,
   "metadata": {},
   "outputs": [
    {
     "data": {
      "text/plain": [
       "'The boat has sailed'"
      ]
     },
     "execution_count": 14,
     "metadata": {},
     "output_type": "execute_result"
    }
   ],
   "source": [
    "boat.move()"
   ]
  },
  {
   "cell_type": "markdown",
   "metadata": {},
   "source": [
    "### 4. **Encapsulation**:\n",
    "Encapsulation is about bundling the data (attributes) and methods (functions) that work on the data into one unit, i.e., a class, and restricting access to some of the object's components. This means some of the object's data can be hidden to protect it from external modification"
   ]
  },
  {
   "cell_type": "code",
   "execution_count": 11,
   "metadata": {},
   "outputs": [],
   "source": [
    "class Person:\n",
    "    def __init__(self, name, age):\n",
    "        self.name = name # Public\n",
    "        self.__age = age # Private\n",
    "\n",
    "\n",
    "    # Getter to get private properties\n",
    "    def get_age(self):\n",
    "        return self.__age\n",
    "        \n",
    "    # Setter to modify private properties\n",
    "    def set_age(self, age):\n",
    "        if age >= 0:\n",
    "            self.__age = age\n",
    "        else:\n",
    "            print(\"Age cannot be nagative\")    "
   ]
  },
  {
   "cell_type": "code",
   "execution_count": 12,
   "metadata": {},
   "outputs": [],
   "source": [
    "person = Person(\"Alice\", 30)"
   ]
  },
  {
   "cell_type": "code",
   "execution_count": 3,
   "metadata": {},
   "outputs": [
    {
     "data": {
      "text/plain": [
       "'Alice'"
      ]
     },
     "execution_count": 3,
     "metadata": {},
     "output_type": "execute_result"
    }
   ],
   "source": [
    "person.name"
   ]
  },
  {
   "cell_type": "code",
   "execution_count": 16,
   "metadata": {},
   "outputs": [
    {
     "ename": "AttributeError",
     "evalue": "'Person' object has no attribute '__age'",
     "output_type": "error",
     "traceback": [
      "\u001b[1;31m---------------------------------------------------------------------------\u001b[0m",
      "\u001b[1;31mAttributeError\u001b[0m                            Traceback (most recent call last)",
      "Cell \u001b[1;32mIn[16], line 1\u001b[0m\n\u001b[1;32m----> 1\u001b[0m \u001b[43mperson\u001b[49m\u001b[38;5;241;43m.\u001b[39;49m\u001b[43m__age\u001b[49m\n",
      "\u001b[1;31mAttributeError\u001b[0m: 'Person' object has no attribute '__age'"
     ]
    }
   ],
   "source": [
    "person.__age"
   ]
  },
  {
   "cell_type": "code",
   "execution_count": 15,
   "metadata": {},
   "outputs": [
    {
     "data": {
      "text/plain": [
       "300"
      ]
     },
     "execution_count": 15,
     "metadata": {},
     "output_type": "execute_result"
    }
   ],
   "source": [
    "person.get_age()"
   ]
  },
  {
   "cell_type": "code",
   "execution_count": 14,
   "metadata": {},
   "outputs": [],
   "source": [
    "person.set_age(300)"
   ]
  },
  {
   "cell_type": "markdown",
   "metadata": {},
   "source": [
    "### 5. **Polymorphism**:\n",
    "Polymorphism means \"many forms.\" In OOP, it refers to the ability of different classes to implement the same method in different ways. It allows you to write more generic code that can work with different types of objects that share the same method names."
   ]
  },
  {
   "cell_type": "code",
   "execution_count": 17,
   "metadata": {},
   "outputs": [],
   "source": [
    "# Parent class of Animal\n",
    "\n",
    "class Animal:\n",
    "    def sound(self):\n",
    "        pass\n",
    "\n",
    "# Subclass of Animal\n",
    "\n",
    "class Dog(Animal):\n",
    "    def sound(self):\n",
    "        return \"Woof!\"\n",
    "\n",
    "# Subclass of Animal\n",
    "\n",
    "class Cat(Animal):\n",
    "    def sound(self):\n",
    "        return \"Meow!\"\n",
    "\n",
    "# Function that uses polymorphism\n",
    "\n",
    "def make_sound(animal):\n",
    "    return animal.sound()        "
   ]
  },
  {
   "cell_type": "code",
   "execution_count": 18,
   "metadata": {},
   "outputs": [],
   "source": [
    "# Create instance of Animal\n",
    "dog = Dog()\n",
    "cat = Cat()"
   ]
  },
  {
   "cell_type": "code",
   "execution_count": 19,
   "metadata": {},
   "outputs": [
    {
     "data": {
      "text/plain": [
       "'Woof!'"
      ]
     },
     "execution_count": 19,
     "metadata": {},
     "output_type": "execute_result"
    }
   ],
   "source": [
    "make_sound(dog)"
   ]
  },
  {
   "cell_type": "code",
   "execution_count": 20,
   "metadata": {},
   "outputs": [
    {
     "data": {
      "text/plain": [
       "'Meow!'"
      ]
     },
     "execution_count": 20,
     "metadata": {},
     "output_type": "execute_result"
    }
   ],
   "source": [
    "make_sound(cat)"
   ]
  },
  {
   "cell_type": "markdown",
   "metadata": {},
   "source": [
    "**Polymorphism in Action**: The function `make_sound` takes an `animal` object and calls its `sound()` method. Whether the object is a `Dog` or a `Cat`, it calls the respective method. This is polymorphism because both `Dog` and `Cat` classes have the same method `sound()`, but they produce different outputs."
   ]
  }
 ],
 "metadata": {
  "kernelspec": {
   "display_name": "Python 3",
   "language": "python",
   "name": "python3"
  },
  "language_info": {
   "codemirror_mode": {
    "name": "ipython",
    "version": 3
   },
   "file_extension": ".py",
   "mimetype": "text/x-python",
   "name": "python",
   "nbconvert_exporter": "python",
   "pygments_lexer": "ipython3",
   "version": "3.10.9"
  }
 },
 "nbformat": 4,
 "nbformat_minor": 2
}
